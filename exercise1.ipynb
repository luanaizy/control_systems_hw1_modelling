{
 "cells": [
  {
   "cell_type": "code",
   "execution_count": 19,
   "id": "f786ca1e",
   "metadata": {},
   "outputs": [],
   "source": [
    "import sympy as sym\n",
    "from sympy.abc import s,t"
   ]
  },
  {
   "cell_type": "markdown",
   "id": "32ef2cc9",
   "metadata": {
    "vscode": {
     "languageId": "latex"
    }
   },
   "source": [
    "a) $F_1(s) = \\frac{2s + 5}{s^3 + 6s^2 + 21s + 26}$\n"
   ]
  },
  {
   "cell_type": "code",
   "execution_count": 3,
   "id": "37ad0c1c",
   "metadata": {},
   "outputs": [
    {
     "name": "stdout",
     "output_type": "stream",
     "text": [
      "(2*exp(-2*t)*sin(3*t)/3 - exp(-2*t)*cos(3*t)/9)*Heaviside(t) + exp(-2*t)*Heaviside(t)/9\n"
     ]
    }
   ],
   "source": [
    "F1 = (2*s+5)/(s**3 + 6*(s**2) + 21*s + 26)\n",
    "f1 = sym.inverse_laplace_transform(F1,s,t)\n",
    "print(f1)"
   ]
  },
  {
   "cell_type": "markdown",
   "id": "5425696a",
   "metadata": {},
   "source": [
    "b) $F_2(s) = \\frac{s - 10}{(s + 2)(s + 5)} = \\frac{s - 10}{s^2 + 7s + 10}$"
   ]
  },
  {
   "cell_type": "code",
   "execution_count": 14,
   "id": "c6c813d3",
   "metadata": {},
   "outputs": [
    {
     "name": "stdout",
     "output_type": "stream",
     "text": [
      "-4*exp(-2*t)*Heaviside(t) + 5*exp(-5*t)*Heaviside(t)\n"
     ]
    }
   ],
   "source": [
    "F2 = (s-10)/(s**2+7*s+10)\n",
    "f2 = sym.inverse_laplace_transform(F2,s,t)\n",
    "print(f2)"
   ]
  },
  {
   "cell_type": "markdown",
   "id": "b1f6738c",
   "metadata": {},
   "source": [
    "c) $F_3(s) = \\frac{s + 1}{s^2 + 6s + 13}$"
   ]
  },
  {
   "cell_type": "code",
   "execution_count": 5,
   "id": "a819290c",
   "metadata": {},
   "outputs": [
    {
     "name": "stdout",
     "output_type": "stream",
     "text": [
      "(-exp(-3*t)*sin(2*t) + exp(-3*t)*cos(2*t))*Heaviside(t)\n"
     ]
    }
   ],
   "source": [
    "F3 = (s+1)/(s**2 + 6*s + 13)\n",
    "f3 = sym.inverse_laplace_transform(F3,s,t)\n",
    "print(f3)"
   ]
  },
  {
   "cell_type": "markdown",
   "id": "1da18e0b",
   "metadata": {},
   "source": [
    "d )$F_4(s) = \\frac{1 + 2e^{-s}}{s^2 + 3s + 2}$\n"
   ]
  },
  {
   "cell_type": "code",
   "execution_count": 18,
   "id": "328465b3",
   "metadata": {},
   "outputs": [
    {
     "name": "stdout",
     "output_type": "stream",
     "text": [
      "2*exp(1 - t)*Heaviside(t - 1) - 2*exp(2 - 2*t)*Heaviside(t - 1) + exp(-t)*Heaviside(t) - exp(-2*t)*Heaviside(t)\n"
     ]
    }
   ],
   "source": [
    "F4 = (1 + 2 * sym.exp(-s)) / (s**2 + 3*s + 2)\n",
    "f4 = sym.inverse_laplace_transform(F4, s, t)\n",
    "print(f4)"
   ]
  }
 ],
 "metadata": {
  "kernelspec": {
   "display_name": ".venv",
   "language": "python",
   "name": "python3"
  },
  "language_info": {
   "codemirror_mode": {
    "name": "ipython",
    "version": 3
   },
   "file_extension": ".py",
   "mimetype": "text/x-python",
   "name": "python",
   "nbconvert_exporter": "python",
   "pygments_lexer": "ipython3",
   "version": "3.13.3"
  }
 },
 "nbformat": 4,
 "nbformat_minor": 5
}
